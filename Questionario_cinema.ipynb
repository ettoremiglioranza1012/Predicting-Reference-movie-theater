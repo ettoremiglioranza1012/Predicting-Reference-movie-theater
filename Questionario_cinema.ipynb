{
 "cells": [
  {
   "cell_type": "code",
   "execution_count": 1,
   "metadata": {},
   "outputs": [],
   "source": [
    "# Analisi dati \n",
    "import pandas as pd \n",
    "import matplotlib.pyplot as plt  \n",
    "import plotly.express as px\n",
    "import numpy as np\n",
    "\n",
    "# Machine learning \n",
    "from sklearn.preprocessing import OrdinalEncoder\n",
    "from sklearn.compose import make_column_selector as selector\n",
    "from sklearn.model_selection import train_test_split\n",
    "from sklearn.ensemble import RandomForestClassifier\n",
    "from sklearn.metrics import accuracy_score, precision_score, recall_score, f1_score, roc_auc_score, confusion_matrix\n",
    "from sklearn.model_selection import cross_val_score"
   ]
  },
  {
   "cell_type": "markdown",
   "metadata": {},
   "source": [
    "### Pulizia dati"
   ]
  },
  {
   "cell_type": "code",
   "execution_count": 2,
   "metadata": {},
   "outputs": [],
   "source": [
    "# carico il dataset fornito dal professore\n",
    "file_csv = \"C:/Users/ettor/OneDrive/Documenti/UNITN - TRIENNALE/CORSI/3 anno, 1 SEM/Marketing/LL/LL_3_Session/Input/QUESTIONARIO_Cinema.csv\"\n",
    "ds_cin = pd.read_csv(file_csv, encoding='latin-1')"
   ]
  },
  {
   "cell_type": "code",
   "execution_count": 3,
   "metadata": {},
   "outputs": [],
   "source": [
    "# elimino una colonna con dati imprecisi e superflui\n",
    "ds_cin = ds_cin.drop('F', axis = 1)"
   ]
  },
  {
   "cell_type": "code",
   "execution_count": 4,
   "metadata": {},
   "outputs": [],
   "source": [
    "# creo una nuova colonna più chiara per il genere\n",
    "def genere(valore):\n",
    "    if valore == 0:\n",
    "        valore = 'Femmina'\n",
    "        return valore\n",
    "    else:\n",
    "        valore = 'Maschio'\n",
    "        return valore \n",
    "\n",
    "nuova_colonna = ds_cin['M'].apply(genere)\n",
    "ds_cin.insert(1, 'Genere', nuova_colonna)"
   ]
  },
  {
   "cell_type": "code",
   "execution_count": 5,
   "metadata": {},
   "outputs": [],
   "source": [
    "# elimino da ogni colonna i valori non riconosciti dall'encoding Latin\n",
    "for i in ds_cin.columns[1:]:\n",
    "    ds_cin[i] = ds_cin[i].str.replace(r'[^a-zA-Z0-9]', ' ', regex = True)"
   ]
  },
  {
   "cell_type": "code",
   "execution_count": 6,
   "metadata": {},
   "outputs": [],
   "source": [
    "# elimino i valori nulli nel dataset\n",
    "ds_cin = ds_cin.dropna()"
   ]
  },
  {
   "cell_type": "code",
   "execution_count": 7,
   "metadata": {},
   "outputs": [],
   "source": [
    "# elimino i valori non numerici dalla colonna fascia di età\n",
    "ds_cin['Fascia di eta'] = ds_cin['Fascia di eta'].str.replace(r'[^0-9]', '', regex = True)"
   ]
  },
  {
   "cell_type": "code",
   "execution_count": 8,
   "metadata": {},
   "outputs": [],
   "source": [
    "# creo un'intervallo 50-50 per i valori di età 'oltre i 50'\n",
    "def aggiungi(valore):\n",
    "    \n",
    "    if valore == '50':\n",
    "        return '50' + valore \n",
    "    else:\n",
    "        return valore\n",
    "\n",
    "ds_cin['Fascia di eta'] = ds_cin['Fascia di eta'].apply(aggiungi)"
   ]
  },
  {
   "cell_type": "code",
   "execution_count": 9,
   "metadata": {},
   "outputs": [],
   "source": [
    "# modifico le celle di fascia di età per renderle codificabili\n",
    "ds_cin['Fascia di eta'] = ds_cin['Fascia di eta'].str[:2] + ',' + ds_cin['Fascia di eta'].str[2:]"
   ]
  },
  {
   "cell_type": "code",
   "execution_count": 10,
   "metadata": {},
   "outputs": [],
   "source": [
    "# costruisco una colonna che al posto di avere l'intervallo di età\n",
    "# ha l'età media di ogni consumatore\n",
    "def calcola_media(valori):\n",
    "    \n",
    "    valore_splitted = valori.split(',')\n",
    "    valore1 = float(valore_splitted[0])\n",
    "    valore2 = float(valore_splitted[1])\n",
    "    media = (valore1 + valore2) / 2\n",
    "    \n",
    "    return media\n",
    "\n",
    "nuova_colonna = ds_cin['Fascia di eta'].apply(calcola_media)\n",
    "ds_cin.insert(2, 'Eta media', nuova_colonna)\n",
    "ds_cin['Eta media'] = ds_cin['Eta media'].astype(str)\n",
    "ds_cin = ds_cin.drop('Fascia di eta', axis = 1)"
   ]
  },
  {
   "cell_type": "code",
   "execution_count": 11,
   "metadata": {},
   "outputs": [],
   "source": [
    "# pulizia dati\n",
    "ds_cin['Numero dei componenti nucleo familiare'] = ds_cin['Numero dei componenti nucleo familiare'].str.replace('pi', 'Più', regex = True)\n",
    "ds_cin['Numero medio di film visti al cinema ogni mese'] = ds_cin['Numero medio di film visti al cinema ogni mese'].str.replace('Pi', 'Più', regex = True)\n",
    "ds_cin['Numero medio di libri letti in un anno'] = ds_cin['Numero medio di libri letti in un anno'].str.replace('Pi', 'Più', regex = True)\n",
    "ds_cin['Numero medio di concerti visti in un anno'] = ds_cin['Numero medio di concerti visti in un anno'].str.replace('Pi', 'Più', regex = True)\n",
    "ds_cin['Numero medio di mostre viste in un anno'] = ds_cin['Numero medio di mostre viste in un anno'].str.replace('Pi', 'Più', regex = True)\n",
    "ds_cin['Numero medio di musei visitati in un anno'] = ds_cin['Numero medio di musei visitati in un anno'].str.replace('Pi', 'Più', regex = True)\n",
    "ds_cin['Numero medio di rappresentazioni teatrali viste in un anno'] = ds_cin['Numero medio di rappresentazioni teatrali viste in un anno'].str.replace('Pi', 'Più', regex = True)"
   ]
  },
  {
   "cell_type": "markdown",
   "metadata": {},
   "source": [
    "### Categorizzazione dati e plot grafici distribuzioni features "
   ]
  },
  {
   "cell_type": "code",
   "execution_count": 12,
   "metadata": {},
   "outputs": [],
   "source": [
    "# categorizzazione dei dataset per scelta della sala, lo usiamo dopo per i grafici\n",
    "ds_cin_UCI = ds_cin[ds_cin['Sala cinematografica di riferimento'] == 'UCI']\n",
    "ds_cin_TS = ds_cin[ds_cin['Sala cinematografica di riferimento'] == 'The Space']\n",
    "ds_cin_other = ds_cin[ds_cin['Sala cinematografica di riferimento'] == 'Altra']\n",
    "lista_cinema = [ds_cin_UCI, ds_cin_TS, ds_cin_other]"
   ]
  },
  {
   "cell_type": "code",
   "execution_count": 13,
   "metadata": {},
   "outputs": [],
   "source": [
    "# algoritmo di ricerca delle stringhe: obiettivo ritornare una lista di lista, con una copia singola \n",
    "# delle stringhe di ogni colonna. \n",
    "\n",
    "ds_loop = ds_cin.drop(['M', 'Sala cinematografica di riferimento'], axis = 1)\n",
    "\n",
    "stringa = ' '\n",
    "lista_stringhe = []\n",
    "\n",
    "for i, df in enumerate(ds_loop):\n",
    "    \n",
    "        lista_stringhe.append([])\n",
    "\n",
    "        for cella in ds_cin[df]:\n",
    "        \n",
    "             if cella != stringa and cella not in lista_stringhe[i]:        \n",
    "                \n",
    "                stringa = cella \n",
    "                lista_stringhe[i].append(stringa)"
   ]
  },
  {
   "cell_type": "code",
   "execution_count": 14,
   "metadata": {},
   "outputs": [],
   "source": [
    "# altro lista di colonne utile per loop\n",
    "dm = ds_cin.drop(['M','Sala cinematografica di riferimento'], axis = 1)"
   ]
  },
  {
   "cell_type": "code",
   "execution_count": 15,
   "metadata": {},
   "outputs": [],
   "source": [
    "# creiamo una matrice di somme per avere tutti i dati impacchettati \n",
    "matrice_somme = []\n",
    "\n",
    "for i, df in enumerate(lista_cinema):\n",
    "    matrice_somme.append([])\n",
    "    \n",
    "    for n, lista_dentro_lista in enumerate(lista_stringhe):\n",
    "        matrice_somme[i].append([])\n",
    "        \n",
    "        for stringax in lista_dentro_lista:\n",
    "                \n",
    "            conteggio = df[dm.columns[n]].str.count(stringax).sum()\n",
    "            matrice_somme[i][n].append(conteggio)"
   ]
  },
  {
   "cell_type": "code",
   "execution_count": 16,
   "metadata": {},
   "outputs": [],
   "source": [
    "# creo una feature utile per plottare i titoli nei grafici\n",
    "titoli = []\n",
    "for titolo in lista_cinema:\n",
    "    titoli.append(titolo['Sala cinematografica di riferimento'].iloc[0])"
   ]
  },
  {
   "cell_type": "code",
   "execution_count": 17,
   "metadata": {},
   "outputs": [],
   "source": [
    "# un altra feature per le label \n",
    "lista_label = []\n",
    "for df_label in dm.columns:\n",
    "    lista_label.append(df_label)"
   ]
  },
  {
   "cell_type": "code",
   "execution_count": null,
   "metadata": {},
   "outputs": [],
   "source": [
    "# Plot di una griglia 1x3 dove  mostriamo la distribuzione di tutte le features \n",
    "# del campione, categorizzate per la scelta del cinema \n",
    "# utile per studiare quali feature influenzano di più la scelta del cinema \n",
    "k= 0\n",
    "while k < len(matrice_somme[0]):\n",
    "    z = 0\n",
    "    fig, axs = plt.subplots(1, 3, figsize=(15,8))\n",
    "    while z < len(matrice_somme):\n",
    "        altezze = matrice_somme[z][k]\n",
    "        categorie = lista_stringhe[k]\n",
    "        colori = [(0.6, 0.3, 0.3), (0.4, 0.6, 0.4), (0.4, 0.4, 0.8), (0.7, 0.5, 0.7)]\n",
    "        \n",
    "        axs[z].bar(categorie, altezze, color = colori)\n",
    "        axs[z].set_title('Sala: %s' % titoli[z])\n",
    "        #axs[0].set_ylabel(lista_label[k])\n",
    "        axs[z].tick_params(axis='x', labelrotation=75)\n",
    "        \n",
    "        z += 1\n",
    "    \n",
    "    k += 1\n",
    "    plt.tight_layout()\n",
    "    fig.suptitle(lista_label[k-1], fontsize=12, y = 1.05)\n",
    "    plt.show()"
   ]
  },
  {
   "cell_type": "markdown",
   "metadata": {},
   "source": [
    "### Modello predittivo "
   ]
  },
  {
   "cell_type": "code",
   "execution_count": 18,
   "metadata": {},
   "outputs": [],
   "source": [
    "train_data = ds_cin"
   ]
  },
  {
   "cell_type": "markdown",
   "metadata": {},
   "source": [
    "Encoding nominal categories (without assuming any order)"
   ]
  },
  {
   "cell_type": "code",
   "execution_count": 19,
   "metadata": {},
   "outputs": [],
   "source": [
    "# Per creare un modello predittivo più efficacie dell'analisi manuale\n",
    "# dobbiamo tradurre le variabili categoriche del dataset \n",
    "# in modo che il modello possa utilizzarle.\n",
    "# Un modo pratico è usare l'encoding di scikit\n",
    "\n",
    "# prima visualizziamo le categorie delle varibili \n",
    "categorical_columns_selector = selector(dtype_include=object)\n",
    "categorical_columns = categorical_columns_selector(train_data)"
   ]
  },
  {
   "cell_type": "code",
   "execution_count": 20,
   "metadata": {},
   "outputs": [],
   "source": [
    "data_categorical = train_data[categorical_columns]"
   ]
  },
  {
   "cell_type": "code",
   "execution_count": 21,
   "metadata": {},
   "outputs": [
    {
     "data": {
      "text/html": [
       "<div>\n",
       "<style scoped>\n",
       "    .dataframe tbody tr th:only-of-type {\n",
       "        vertical-align: middle;\n",
       "    }\n",
       "\n",
       "    .dataframe tbody tr th {\n",
       "        vertical-align: top;\n",
       "    }\n",
       "\n",
       "    .dataframe thead th {\n",
       "        text-align: right;\n",
       "    }\n",
       "</style>\n",
       "<table border=\"1\" class=\"dataframe\">\n",
       "  <thead>\n",
       "    <tr style=\"text-align: right;\">\n",
       "      <th></th>\n",
       "      <th>Siti internet frequentati maggiormente</th>\n",
       "    </tr>\n",
       "  </thead>\n",
       "  <tbody>\n",
       "    <tr>\n",
       "      <th>0</th>\n",
       "      <td>2.0</td>\n",
       "    </tr>\n",
       "    <tr>\n",
       "      <th>1</th>\n",
       "      <td>1.0</td>\n",
       "    </tr>\n",
       "    <tr>\n",
       "      <th>2</th>\n",
       "      <td>1.0</td>\n",
       "    </tr>\n",
       "    <tr>\n",
       "      <th>3</th>\n",
       "      <td>2.0</td>\n",
       "    </tr>\n",
       "    <tr>\n",
       "      <th>4</th>\n",
       "      <td>0.0</td>\n",
       "    </tr>\n",
       "  </tbody>\n",
       "</table>\n",
       "</div>"
      ],
      "text/plain": [
       "   Siti internet frequentati maggiormente\n",
       "0                                     2.0\n",
       "1                                     1.0\n",
       "2                                     1.0\n",
       "3                                     2.0\n",
       "4                                     0.0"
      ]
     },
     "execution_count": 21,
     "metadata": {},
     "output_type": "execute_result"
    }
   ],
   "source": [
    "# Dobbiamo codificare ogni colonna con dei valori interi specifici\n",
    "# proviamo con i siti internet maggiormente frequentati.\n",
    "# Usiamo OrdinalEncoder perchè è una buona startegia per i tree-based models.\n",
    "site_column = data_categorical[['Siti internet frequentati maggiormente']]\n",
    "\n",
    "encoder = OrdinalEncoder().set_output(transform='pandas')\n",
    "site_encoded = encoder.fit_transform(site_column)\n",
    "site_encoded.head()"
   ]
  },
  {
   "cell_type": "code",
   "execution_count": 22,
   "metadata": {},
   "outputs": [
    {
     "name": "stdout",
     "output_type": "stream",
     "text": [
      "The dataset is composed of 24 features\n"
     ]
    }
   ],
   "source": [
    "# Ora applichiamo l'encoding a tutto il dataset \n",
    "print(f'The dataset is composed of {data_categorical.shape[1]} features')"
   ]
  },
  {
   "cell_type": "code",
   "execution_count": 23,
   "metadata": {},
   "outputs": [],
   "source": [
    "data_encoded = encoder.fit_transform(data_categorical)"
   ]
  },
  {
   "cell_type": "markdown",
   "metadata": {},
   "source": [
    "Modello di Classificazione predittiva:"
   ]
  },
  {
   "cell_type": "code",
   "execution_count": 41,
   "metadata": {},
   "outputs": [],
   "source": [
    "# splittiamo il dataset per creare un modello predittivo\n",
    "feature_cols = ['Genere', 'Eta media','Stato civile','Titolo di studio', 'Attivita lavorativa', 'Numero dei componenti nucleo familiare', \n",
    "                'Siti internet frequentati maggiormente','Canali social frequentati abitualmente','Mezzi di informazione utilizzati in prevalenza',\n",
    "                'Principali hobby','Genere di film preferito', 'Sala cinematografica di riferimento',\n",
    "                'Criterio di scelta della sala cinematografica', 'Numero medio di film visti al cinema ogni mese',\n",
    "                'Abitualmente va al cinema', 'Influiscono sulla scelta dei film','Fonte principale di reperimento informazioni sui film',\n",
    "                'Oltre che al cinema, preferisce vedere i film', 'Numero medio di libri letti in un anno',\n",
    "                'Numero medio di concerti visti in un anno', 'Numero medio di mostre viste in un anno',\n",
    "                'Numero medio di musei visitati in un anno', 'Numero medio di rappresentazioni teatrali viste in un anno',\n",
    "                'A quali attivita organizzate e promosse da Moovie Club per i propri iscritti  maggiormente interessato?']\n",
    "X = data_encoded[feature_cols] # features \n",
    "y = data_encoded['Sala cinematografica di riferimento']\n",
    "# split the dataset into training and test set \n",
    "X_train, X_test, y_train, y_test = train_test_split(X, y, test_size = 0.5, random_state = 1)"
   ]
  },
  {
   "cell_type": "code",
   "execution_count": 52,
   "metadata": {},
   "outputs": [],
   "source": [
    "mapping = {0: 'Altra', 1: 'The Space', 2: 'UCI'}\n",
    "out_y_test = y_test.replace(mapping)\n",
    "out_y_test.to_csv('out_y_test.csv', index = False)"
   ]
  },
  {
   "cell_type": "code",
   "execution_count": 60,
   "metadata": {},
   "outputs": [
    {
     "name": "stdout",
     "output_type": "stream",
     "text": [
      "Your submission was successfully saved!\n"
     ]
    }
   ],
   "source": [
    "# implementiamo un modello di classificazione per cercare pattern più complessi\n",
    "model = RandomForestClassifier(n_estimators=100, max_depth=4, random_state=1)\n",
    "model.fit(X_train, y_train)\n",
    "predictions = model.predict(X_test)\n",
    "\n",
    "output = pd.DataFrame({'ID': X_test.index, 'Sala cinematografica prevista': predictions})\n",
    "mapping = {0: 'Altra', 1: 'The Space', 2: 'UCI'}\n",
    "output['Sala cinematografica prevista'] = output['Sala cinematografica prevista'].replace(mapping)\n",
    "output.to_csv('submission.csv', index=False)\n",
    "print(\"Your submission was successfully saved!\")"
   ]
  },
  {
   "cell_type": "code",
   "execution_count": 61,
   "metadata": {},
   "outputs": [
    {
     "name": "stdout",
     "output_type": "stream",
     "text": [
      "Accuracy: 0.8632478632478633\n",
      "\n",
      "Precision: 0.9262187088274044\n",
      "\n",
      "Recall: 0.8632478632478633\n",
      "\n",
      "F1-Score: [0.25333333 0.87555556 1.        ]\n",
      "\n",
      "Confusion Matrix:\n",
      "[[ 19 112   0]\n",
      " [  0 394   0]\n",
      " [  0   0 294]]\n",
      "\n",
      "Cross-Validation Scores: [0.83536585 0.84146341 0.84146341 0.84146341 0.84662577]\n",
      "\n",
      "Cross-Validation Mean Score: 0.8412763728864281\n",
      "\n"
     ]
    }
   ],
   "source": [
    "# Calcolare diverse metriche di valutazione\n",
    "accuracy = accuracy_score(y_test, predictions)\n",
    "precision = precision_score(y_test, predictions, average='macro')\n",
    "recall = recall_score(y_test, predictions, average='weighted')\n",
    "f1 = f1_score(y_test, predictions, average=None)\n",
    "confusion = confusion_matrix(y_test, predictions)\n",
    "\n",
    "# Stampa le metriche\n",
    "print(f'Accuracy: {accuracy}\\n')\n",
    "print(f'Precision: {precision}\\n')\n",
    "print(f'Recall: {recall}\\n')\n",
    "print(f'F1-Score: {f1}\\n')\n",
    "print(f'Confusion Matrix:\\n{confusion}\\n')\n",
    "\n",
    "# Eseguire la cross-validation per ottenere una stima più robusta delle prestazioni\n",
    "cv_scores = cross_val_score(model, X_train, y_train, cv=5)  # 5-fold cross-validation\n",
    "print(f'Cross-Validation Scores: {cv_scores}\\n')\n",
    "print(f'Cross-Validation Mean Score: {cv_scores.mean()}\\n')"
   ]
  }
 ],
 "metadata": {
  "kernelspec": {
   "display_name": "Python 3",
   "language": "python",
   "name": "python3"
  },
  "language_info": {
   "codemirror_mode": {
    "name": "ipython",
    "version": 3
   },
   "file_extension": ".py",
   "mimetype": "text/x-python",
   "name": "python",
   "nbconvert_exporter": "python",
   "pygments_lexer": "ipython3",
   "version": "3.11.2"
  }
 },
 "nbformat": 4,
 "nbformat_minor": 2
}
