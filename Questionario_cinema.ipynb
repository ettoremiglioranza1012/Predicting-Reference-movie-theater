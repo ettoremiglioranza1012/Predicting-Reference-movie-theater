{
 "cells": [
  {
   "cell_type": "code",
   "execution_count": null,
   "metadata": {},
   "outputs": [],
   "source": [
    "import pandas as pd \n",
    "import matplotlib.pyplot as plt  \n",
    "import plotly.express as px\n",
    "import numpy as np"
   ]
  },
  {
   "cell_type": "code",
   "execution_count": null,
   "metadata": {},
   "outputs": [],
   "source": [
    "file_csv = \"C:/Users/ettor/OneDrive/Documenti/UNITN - TRIENNALE/CORSI/3 anno, 1 SEM/Marketing/LL/LL_3_Session/Input/QUESTIONARIO_Cinema.csv\"\n",
    "ds_cin = pd.read_csv(file_csv, encoding='latin-1')\n",
    "pd.set_option('display.max_rows', None)\n",
    "pd.set_option('display.max_columns', None)"
   ]
  },
  {
   "cell_type": "code",
   "execution_count": null,
   "metadata": {},
   "outputs": [],
   "source": [
    "ds_cin = ds_cin.drop('F', axis = 1)"
   ]
  },
  {
   "cell_type": "code",
   "execution_count": null,
   "metadata": {},
   "outputs": [],
   "source": [
    "def genere(valore):\n",
    "    if valore == 0:\n",
    "        valore = 'Femmina'\n",
    "        return valore\n",
    "    else:\n",
    "        valore = 'Maschio'\n",
    "        return valore \n",
    "\n",
    "nuova_colonna = ds_cin['M'].apply(genere)\n",
    "ds_cin.insert(1, 'Genere', nuova_colonna)"
   ]
  },
  {
   "cell_type": "code",
   "execution_count": null,
   "metadata": {},
   "outputs": [],
   "source": [
    "for i in ds_cin.columns[1:]:\n",
    "    ds_cin[i] = ds_cin[i].str.replace(r'[^a-zA-Z0-9]', ' ', regex = True)"
   ]
  },
  {
   "cell_type": "code",
   "execution_count": null,
   "metadata": {},
   "outputs": [],
   "source": [
    "ds_cin = ds_cin.dropna()"
   ]
  },
  {
   "cell_type": "code",
   "execution_count": null,
   "metadata": {},
   "outputs": [],
   "source": [
    "ds_cin['Fascia di eta'] = ds_cin['Fascia di eta'].str.replace(r'[^0-9]', '', regex = True)"
   ]
  },
  {
   "cell_type": "code",
   "execution_count": null,
   "metadata": {},
   "outputs": [],
   "source": [
    "def aggiungi(valore):\n",
    "    \n",
    "    if valore == '50':\n",
    "        return '50' + valore \n",
    "    else:\n",
    "        return valore\n",
    "\n",
    "ds_cin['Fascia di eta'] = ds_cin['Fascia di eta'].apply(aggiungi)"
   ]
  },
  {
   "cell_type": "code",
   "execution_count": null,
   "metadata": {},
   "outputs": [],
   "source": [
    "ds_cin['Fascia di eta'] = ds_cin['Fascia di eta'].str[:2] + ',' + ds_cin['Fascia di eta'].str[2:]"
   ]
  },
  {
   "cell_type": "code",
   "execution_count": null,
   "metadata": {},
   "outputs": [],
   "source": [
    "def calcola_media(valori):\n",
    "    \n",
    "    valore_splitted = valori.split(',')\n",
    "    valore1 = float(valore_splitted[0])\n",
    "    valore2 = float(valore_splitted[1])\n",
    "    media = (valore1 + valore2) / 2\n",
    "    \n",
    "    return media\n",
    "\n",
    "nuova_colonna = ds_cin['Fascia di eta'].apply(calcola_media)\n",
    "ds_cin.insert(2, 'Eta media', nuova_colonna)\n",
    "ds_cin['Eta media'] = ds_cin['Eta media'].astype(str)\n",
    "ds_cin = ds_cin.drop('Fascia di eta', axis = 1)"
   ]
  },
  {
   "cell_type": "code",
   "execution_count": null,
   "metadata": {},
   "outputs": [],
   "source": [
    "ds_cin['Numero dei componenti nucleo familiare'] = ds_cin['Numero dei componenti nucleo familiare'].str.replace('pi', 'Più', regex = True)\n",
    "ds_cin['Numero medio di film visti al cinema ogni mese'] = ds_cin['Numero medio di film visti al cinema ogni mese'].str.replace('Pi', 'Più', regex = True)\n",
    "ds_cin['Numero medio di libri letti in un anno'] = ds_cin['Numero medio di libri letti in un anno'].str.replace('Pi', 'Più', regex = True)\n",
    "ds_cin['Numero medio di concerti visti in un anno'] = ds_cin['Numero medio di concerti visti in un anno'].str.replace('Pi', 'Più', regex = True)\n",
    "ds_cin['Numero medio di mostre viste in un anno'] = ds_cin['Numero medio di mostre viste in un anno'].str.replace('Pi', 'Più', regex = True)\n",
    "ds_cin['Numero medio di musei visitati in un anno'] = ds_cin['Numero medio di musei visitati in un anno'].str.replace('Pi', 'Più', regex = True)\n",
    "ds_cin['Numero medio di rappresentazioni teatrali viste in un anno'] = ds_cin['Numero medio di rappresentazioni teatrali viste in un anno'].str.replace('Pi', 'Più', regex = True)"
   ]
  },
  {
   "cell_type": "code",
   "execution_count": null,
   "metadata": {},
   "outputs": [],
   "source": [
    "ds_cin_UCI = ds_cin[ds_cin['Sala cinematografica di riferimento'] == 'UCI']\n",
    "ds_cin_TS = ds_cin[ds_cin['Sala cinematografica di riferimento'] == 'The Space']\n",
    "ds_cin_other = ds_cin[ds_cin['Sala cinematografica di riferimento'] == 'Altra']\n",
    "lista_cinema = [ds_cin_UCI, ds_cin_TS, ds_cin_other]"
   ]
  },
  {
   "cell_type": "code",
   "execution_count": null,
   "metadata": {},
   "outputs": [],
   "source": [
    "# algoritmo di ricerca delle stringhe: obiettivo ritornare una lista di lista, con una copia singola \n",
    "# delle stringhe di ogni colonna. \n",
    "\n",
    "ds_loop = ds_cin.drop(['M', 'Sala cinematografica di riferimento'], axis = 1)\n",
    "\n",
    "stringa = ' '\n",
    "lista_stringhe = []\n",
    "\n",
    "for i, df in enumerate(ds_loop):\n",
    "    \n",
    "        lista_stringhe.append([])\n",
    "\n",
    "        for cella in ds_cin[df]:\n",
    "        \n",
    "             if cella != stringa and cella not in lista_stringhe[i]:        \n",
    "                \n",
    "                stringa = cella \n",
    "                lista_stringhe[i].append(stringa) "
   ]
  },
  {
   "cell_type": "code",
   "execution_count": null,
   "metadata": {},
   "outputs": [],
   "source": [
    "# flusso dati per visualizzare l'influenza delle caratteristiche dei consumatori sulla scelta del cinema \n",
    "# grafici statici;\n",
    "for i, df in enumerate(lista_cinema):\n",
    "\n",
    "    dm = df.drop(['M','Sala cinematografica di riferimento'], axis = 1)\n",
    "    \n",
    "    for n, lista_dentro_lista in enumerate(lista_stringhe[:-1]):\n",
    "        \n",
    "        lista_somme = []\n",
    "\n",
    "        for stringax in lista_dentro_lista:\n",
    "                \n",
    "            conteggio = dm[dm.columns[n]].str.count(stringax).sum()\n",
    "            lista_somme.append(conteggio)\n",
    "        \n",
    "        altezze = lista_somme\n",
    "        categorie = lista_dentro_lista\n",
    "\n",
    "        colori = [(0.6, 0.3, 0.3), (0.4, 0.6, 0.4), (0.4, 0.4, 0.8), (0.7, 0.5, 0.7)]\n",
    "        titolo = (df['Sala cinematografica di riferimento'].iloc[0])\n",
    "        \n",
    "        plt.figure(figsize=(10,8))\n",
    "        plt.bar(categorie, altezze, color=colori)\n",
    "        plt.title('Sala cinematogafica di riferimento: %s' % titolo)\n",
    "        plt.ylabel('%s' % dm.columns[n])\n",
    "        plt.xticks(rotation=25)\n",
    "        plt.tight_layout()\n",
    "        \n",
    "        plt.show()"
   ]
  },
  {
   "cell_type": "code",
   "execution_count": null,
   "metadata": {},
   "outputs": [],
   "source": [
    "# flusso dati per visualizzare l'influenza delle caratteristiche dei consumatori sulla scelta del cinema \n",
    "# grafici interattivi;\n",
    "for i, df in enumerate(lista_cinema):\n",
    "\n",
    "    dm = df.drop(['M', 'Sala cinematografica di riferimento'], axis = 1)\n",
    "    \n",
    "    for n, lista_dentro_lista in enumerate(lista_stringhe):\n",
    "        \n",
    "        lista_somme = []\n",
    "\n",
    "        for stringax in lista_dentro_lista:\n",
    "                \n",
    "            conteggio = dm[dm.columns[n]].str.count(stringax).sum()\n",
    "            lista_somme.append(conteggio)\n",
    "        \n",
    "        altezze = lista_somme\n",
    "        categorie = lista_dentro_lista\n",
    "        titolo = (df['Sala cinematografica di riferimento'].iloc[0])\n",
    "\n",
    "        db = {\n",
    "      \n",
    "                \"Categoria\" : categorie,\n",
    "      \n",
    "            dm.columns[n] : altezze\n",
    "      \n",
    "        }\n",
    "        \n",
    "        data = pd.DataFrame(data = db, index = np.arange(1, len(altezze)+1))\n",
    "        fig = px.bar(data, x=\"Categoria\", y=dm.columns[n],\n",
    "                     color = \"Categoria\", text_auto='.2s',\n",
    "                     title = 'Sala cinematogafica di riferimento: %s' % titolo, height=700,width=800,\n",
    "                     color_discrete_sequence=px.colors.qualitative.Set2, template='plotly_white')\n",
    "        fig.update_traces(textfont_size=12, textangle=0, textposition=\"outside\", cliponaxis=False, showlegend=False)\n",
    "        fig.update_layout(yaxis_title = None, xaxis_title = dm.columns[n])\n",
    "        fig.show()"
   ]
  }
 ],
 "metadata": {
  "kernelspec": {
   "display_name": "Python 3",
   "language": "python",
   "name": "python3"
  },
  "language_info": {
   "codemirror_mode": {
    "name": "ipython",
    "version": 3
   },
   "file_extension": ".py",
   "mimetype": "text/x-python",
   "name": "python",
   "nbconvert_exporter": "python",
   "pygments_lexer": "ipython3",
   "version": "3.11.2"
  }
 },
 "nbformat": 4,
 "nbformat_minor": 2
}
